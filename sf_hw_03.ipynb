{
 "cells": [
  {
   "cell_type": "markdown",
   "id": "d3734c89",
   "metadata": {},
   "source": [
    "Используя информацию по мидиям Петербурга и Магадана, которые представлены в виде двух массивов petersburg и magadan в разделе ANOVA-тест, проверьте данные на нормальность и на наличие корреляции.\n",
    "\n",
    "Для этого:\n",
    "\n",
    "- Объедините два массива в DataFrame.\n",
    "- Обоснуйте выбор теста на корреляцию.\n",
    "- Сделайте вывод по гипотезе.\n",
    "- Ответьте на вопрос: Какова разница в среднем размере мидии в зависимости от города-производителя?\n",
    "- Обоснуйте выбор теста.\n",
    "- Сделайте вывод по гипотезе."
   ]
  },
  {
   "cell_type": "code",
   "execution_count": 1,
   "id": "90c00919",
   "metadata": {},
   "outputs": [],
   "source": [
    "import pandas as pd\n",
    "import numpy as np"
   ]
  },
  {
   "cell_type": "code",
   "execution_count": 2,
   "id": "7606d09e",
   "metadata": {},
   "outputs": [],
   "source": [
    "alpha = 0.05"
   ]
  },
  {
   "cell_type": "code",
   "execution_count": 3,
   "id": "b28ad95a",
   "metadata": {},
   "outputs": [
    {
     "data": {
      "text/html": [
       "<div>\n",
       "<style scoped>\n",
       "    .dataframe tbody tr th:only-of-type {\n",
       "        vertical-align: middle;\n",
       "    }\n",
       "\n",
       "    .dataframe tbody tr th {\n",
       "        vertical-align: top;\n",
       "    }\n",
       "\n",
       "    .dataframe thead th {\n",
       "        text-align: right;\n",
       "    }\n",
       "</style>\n",
       "<table border=\"1\" class=\"dataframe\">\n",
       "  <thead>\n",
       "    <tr style=\"text-align: right;\">\n",
       "      <th></th>\n",
       "      <th>petersburg</th>\n",
       "      <th>magadan</th>\n",
       "    </tr>\n",
       "  </thead>\n",
       "  <tbody>\n",
       "    <tr>\n",
       "      <th>0</th>\n",
       "      <td>0.097400</td>\n",
       "      <td>0.1033</td>\n",
       "    </tr>\n",
       "    <tr>\n",
       "      <th>1</th>\n",
       "      <td>0.135200</td>\n",
       "      <td>0.0915</td>\n",
       "    </tr>\n",
       "    <tr>\n",
       "      <th>2</th>\n",
       "      <td>0.081700</td>\n",
       "      <td>0.0781</td>\n",
       "    </tr>\n",
       "    <tr>\n",
       "      <th>3</th>\n",
       "      <td>0.101600</td>\n",
       "      <td>0.0685</td>\n",
       "    </tr>\n",
       "    <tr>\n",
       "      <th>4</th>\n",
       "      <td>0.096800</td>\n",
       "      <td>0.0677</td>\n",
       "    </tr>\n",
       "    <tr>\n",
       "      <th>5</th>\n",
       "      <td>0.106400</td>\n",
       "      <td>0.0697</td>\n",
       "    </tr>\n",
       "    <tr>\n",
       "      <th>6</th>\n",
       "      <td>0.105000</td>\n",
       "      <td>0.0764</td>\n",
       "    </tr>\n",
       "    <tr>\n",
       "      <th>7</th>\n",
       "      <td>0.103443</td>\n",
       "      <td>0.0689</td>\n",
       "    </tr>\n",
       "  </tbody>\n",
       "</table>\n",
       "</div>"
      ],
      "text/plain": [
       "   petersburg  magadan\n",
       "0    0.097400   0.1033\n",
       "1    0.135200   0.0915\n",
       "2    0.081700   0.0781\n",
       "3    0.101600   0.0685\n",
       "4    0.096800   0.0677\n",
       "5    0.106400   0.0697\n",
       "6    0.105000   0.0764\n",
       "7    0.103443   0.0689"
      ]
     },
     "metadata": {},
     "output_type": "display_data"
    }
   ],
   "source": [
    "# объединение\n",
    "\n",
    "raw = {'petersburg': pd.Series([0.0974, 0.1352, 0.0817, 0.1016, 0.0968, 0.1064, 0.105]),\n",
    "        'magadan':   pd.Series([0.1033, 0.0915, 0.0781, 0.0685, 0.0677, 0.0697, 0.0764, 0.0689])\n",
    "}\n",
    "\n",
    "data = pd.DataFrame(data=raw)\n",
    "data.fillna({'petersburg': data['petersburg'].mean()}, inplace=True)\n",
    "\n",
    "display(data)"
   ]
  },
  {
   "cell_type": "markdown",
   "id": "7941d5a4",
   "metadata": {},
   "source": [
    "**ТЕСТ НА НОРМАЛЬНОСТЬ**\n",
    "\n",
    "Так как размер выборки всего лишь 8х2 элементов, то проверка на нормальность скорей всего не будет иметь статистической силы. Я думаю в данном случае стоит использовать непараметрические тесты для подтверждения гипотез, так как они лучше работают на маленьких выборках.\n",
    "\n",
    "Однако для наглядности я проведу тест Шапиро-Уилка. Тест Д’Агостино работает только с выборками, где кол-во элементов больше 20."
   ]
  },
  {
   "cell_type": "code",
   "execution_count": 4,
   "id": "149efb5c",
   "metadata": {},
   "outputs": [],
   "source": [
    "from scipy.stats import shapiro\n",
    "from scipy.stats import normaltest"
   ]
  },
  {
   "cell_type": "code",
   "execution_count": 5,
   "id": "47038dec",
   "metadata": {},
   "outputs": [
    {
     "name": "stdout",
     "output_type": "stream",
     "text": [
      "Мы не можем отвергнуть нулевую гипотезу.\n",
      "p=0.100: Данные распределены нормально\n"
     ]
    }
   ],
   "source": [
    "H0 = 'Данные распределены нормально'\n",
    "Ha = 'Данные не распределены нормально'\n",
    "\n",
    "_, p = shapiro(data)\n",
    "print(f\"{'Мы не можем отвергнуть нулевую гипотезу.' if p>alpha else 'Мы отвергаем нулевую гипотезу.'}\")\n",
    "print(f\"p={'%.3f' % p}: {H0 if p > alpha else Ha}\")"
   ]
  },
  {
   "cell_type": "markdown",
   "id": "be608c44",
   "metadata": {},
   "source": [
    "Тест доказал, что данные имеют нормальное распределение - но насколько ли можно верить результату? Можно предположить, что размер раковин будет подчиняться нормальному распределению по аналогии с ростом человека."
   ]
  },
  {
   "cell_type": "markdown",
   "id": "03a9ad02",
   "metadata": {},
   "source": [
    "**КОРРЕЛЯЦИОННЫЕ ТЕСТ**\n",
    "\n",
    "Выше я установил, что буду использовать непараметрические тесты. Так как данные являются количественными, то для корреляционного анализа я буду использовать тест Спирмена."
   ]
  },
  {
   "cell_type": "code",
   "execution_count": 6,
   "id": "36af4500",
   "metadata": {},
   "outputs": [],
   "source": [
    "from scipy.stats import spearmanr"
   ]
  },
  {
   "cell_type": "code",
   "execution_count": 7,
   "id": "ebd56019",
   "metadata": {},
   "outputs": [
    {
     "name": "stdout",
     "output_type": "stream",
     "text": [
      "Мы не можем отвергнуть нулевую гипотезу.\n",
      "p=0.693: В данных отсутствует зависимость между переменными\n"
     ]
    }
   ],
   "source": [
    "H0 = 'В данных отсутствует зависимость между переменными'\n",
    "Ha = 'В данных присутствует зависимость между переменными'\n",
    "\n",
    "_, p = spearmanr(data['petersburg'], data['magadan'])\n",
    "\n",
    "print(f\"{'Мы не можем отвергнуть нулевую гипотезу.' if p>alpha else 'Мы отвергаем нулевую гипотезу.'}\")\n",
    "print(f\"p={'%.3f' % p}: {H0 if p > alpha else Ha}\")"
   ]
  },
  {
   "cell_type": "markdown",
   "id": "c9d77c46",
   "metadata": {},
   "source": [
    "**ОТВЕТ НА ВОПРОС**\n",
    "\n",
    "Так как используются непараметрические тесты, зависимая переменная является количественной и в данных две группы из разных совокупностей, я буду использовать тест на сумму рангов Уилкоксона."
   ]
  },
  {
   "cell_type": "code",
   "execution_count": 8,
   "id": "7e3f367f",
   "metadata": {},
   "outputs": [],
   "source": [
    "from scipy.stats import ranksums"
   ]
  },
  {
   "cell_type": "code",
   "execution_count": 9,
   "id": "9cdc54f1",
   "metadata": {},
   "outputs": [
    {
     "name": "stdout",
     "output_type": "stream",
     "text": [
      "Мы отвергаем нулевую гипотезу.\n",
      "p=0.005: Есть значимая разница между размерами мидий в разных городах\n"
     ]
    }
   ],
   "source": [
    "H0 = 'Нет значимой разницы между размерами мидий в разных городах'\n",
    "Ha = 'Есть значимая разница между размерами мидий в разных городах'\n",
    "\n",
    "_, p = ranksums(data['petersburg'], data['magadan'])\n",
    "\n",
    "print(f\"{'Мы не можем отвергнуть нулевую гипотезу.' if p>alpha else 'Мы отвергаем нулевую гипотезу.'}\")\n",
    "print(f\"p={'%.3f' % p}: {H0 if p>alpha else Ha}\")"
   ]
  },
  {
   "cell_type": "code",
   "execution_count": null,
   "id": "3f85600c",
   "metadata": {},
   "outputs": [],
   "source": []
  }
 ],
 "metadata": {
  "kernelspec": {
   "display_name": "Python 3 (ipykernel)",
   "language": "python",
   "name": "python3"
  },
  "language_info": {
   "codemirror_mode": {
    "name": "ipython",
    "version": 3
   },
   "file_extension": ".py",
   "mimetype": "text/x-python",
   "name": "python",
   "nbconvert_exporter": "python",
   "pygments_lexer": "ipython3",
   "version": "3.9.13"
  }
 },
 "nbformat": 4,
 "nbformat_minor": 5
}
